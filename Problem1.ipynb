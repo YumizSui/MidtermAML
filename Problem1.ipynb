{
 "cells": [
  {
   "cell_type": "markdown",
   "id": "e6eb1257",
   "metadata": {},
   "source": [
    "# Problem 1"
   ]
  },
  {
   "cell_type": "code",
   "execution_count": 1,
   "id": "650b00b1",
   "metadata": {},
   "outputs": [],
   "source": [
    "import numpy as np\n",
    "import matplotlib.pyplot as plt"
   ]
  },
  {
   "cell_type": "code",
   "execution_count": 2,
   "id": "5289a95e",
   "metadata": {},
   "outputs": [],
   "source": [
    "# dataset 4\n",
    "\n",
    "n = 200\n",
    "x_d4 = 3 * (np.random.rand(n, 4) - 0.5)\n",
    "y_d4 = (2 * x_d4[:, 0] - 1 * x_d4[:,1] + 0.5 + 0.5 * np.random.randn(n)) > 0\n",
    "y_d4 = 2 * y_d4 -1"
   ]
  },
  {
   "cell_type": "markdown",
   "id": "8ad8d3b3",
   "metadata": {},
   "source": [
    "## 1. Batch steepest gradient method."
   ]
  },
  {
   "cell_type": "code",
   "execution_count": 3,
   "id": "c8ec5fe5",
   "metadata": {},
   "outputs": [],
   "source": [
    "p=5\n",
    "ones_n = np.ones(n)\n",
    "x_d4_ = np.c_[x_d4, ones_n]\n",
    "w0=np.random.rand(p)"
   ]
  },
  {
   "cell_type": "code",
   "execution_count": 4,
   "id": "19ebd28d",
   "metadata": {},
   "outputs": [
    {
     "name": "stdout",
     "output_type": "stream",
     "text": [
      "accuracy : 0.905\n",
      "min J(w) : 43.9\n",
      "CPU times: user 18.8 ms, sys: 5.45 ms, total: 24.2 ms\n",
      "Wall time: 10.3 ms\n"
     ]
    }
   ],
   "source": [
    "%%time\n",
    "alpha=0.001\n",
    "lamb = 0.1\n",
    "w = w0.copy()\n",
    "Js_grad=[]\n",
    "J = ones_n @ np.log(1+np.exp(-y_d4*(x_d4_@w))) + lamb * w @ w\n",
    "Js_grad.append(J)\n",
    "for i in range(500):\n",
    "    probs = 1/(1+np.exp(- y_d4 * (x_d4_ @ w)))\n",
    "    dJ = ones_n @ (-y_d4 * x_d4_.T * (1-probs)).T + 2*lamb*w\n",
    "    w -= alpha*dJ\n",
    "    J = ones_n @ np.log(1+np.exp(-y_d4*(x_d4_@w))) + lamb * w @ w\n",
    "    Js_grad.append(J)\n",
    "y_pred = 2*((w@ x_d4_.T)>0)-1\n",
    "accuracy = np.mean(y_pred==y_d4)\n",
    "print(f'accuracy : {accuracy}')\n",
    "print(f'min J(w) : {min(Js_grad):.4}')"
   ]
  },
  {
   "cell_type": "markdown",
   "id": "5a136ba8",
   "metadata": {},
   "source": [
    "## 2. Newton based method"
   ]
  },
  {
   "cell_type": "code",
   "execution_count": 5,
   "id": "a350c3f5",
   "metadata": {},
   "outputs": [
    {
     "name": "stdout",
     "output_type": "stream",
     "text": [
      "accuracy : 0.91\n",
      "min J(w) : 42.71\n",
      "CPU times: user 1.31 s, sys: 422 ms, total: 1.73 s\n",
      "Wall time: 407 ms\n"
     ]
    }
   ],
   "source": [
    "%%time\n",
    "alpha = 0.001\n",
    "lamb = 0.1\n",
    "w = w0.copy()\n",
    "Js_newton=[]\n",
    "J = ones_n @ np.log(1+np.exp(-y_d4*(x_d4_@w))) + lamb * w @ w\n",
    "Js_newton.append(J)\n",
    "for i in range(500):\n",
    "    probs = 1/(1+np.exp(- y_d4 * (x_d4_ @ w)))\n",
    "    dJ = ones_n @ (-y_d4 * x_d4_.T * (1-probs)).T + 2*lamb*w\n",
    "    H = np.mean([np.outer(x_d4_[i], x_d4_[i]) * probs[i] * (1-probs[i]) for i in range(n)], axis=0) + 2*lamb * np.eye(p)\n",
    "    w -= alpha*np.linalg.inv(H) @ dJ\n",
    "    J = ones_n @ np.log(1+np.exp(-y_d4*(x_d4_@w))) + lamb * w @ w\n",
    "    Js_newton.append(J)\n",
    "y_pred = 2*((w@ x_d4_.T)>0)-1\n",
    "accuracy = np.mean(y_pred==y_d4)\n",
    "print(f'accuracy : {accuracy}')\n",
    "print(f'min J(w) : {min(Js_newton):.4}')"
   ]
  },
  {
   "cell_type": "markdown",
   "id": "fd9bac2e",
   "metadata": {},
   "source": [
    "## 3. Compare the performance of two optimization methods"
   ]
  },
  {
   "cell_type": "code",
   "execution_count": 6,
   "id": "03126384",
   "metadata": {},
   "outputs": [
    {
     "data": {
      "image/png": "[encoded data removed]",
      "text/plain": [
       "<Figure size 432x288 with 1 Axes>"
      ]
     },
     "metadata": {
      "needs_background": "light"
     },
     "output_type": "display_data"
    }
   ],
   "source": [
    "J_hat = min(*Js_grad, *Js_newton)\n",
    "plt.plot(range(501), abs(Js_grad-J_hat), label='grad')\n",
    "plt.plot(range(501), abs(Js_newton-J_hat), label='newton')\n",
    "plt.legend()\n",
    "# plt.xscale('log')\n",
    "plt.xlabel('iteration')\n",
    "plt.yscale('log')\n",
    "plt.ylabel('J(w_t)-J(w_hat)')\n",
    "plt.show()"
   ]
  },
  {
   "cell_type": "markdown",
   "id": "264f2901",
   "metadata": {},
   "source": [
    "## 4. Multiclass version"
   ]
  },
  {
   "cell_type": "code",
   "execution_count": 7,
   "id": "a131640b",
   "metadata": {},
   "outputs": [],
   "source": [
    "# dataset 5\n",
    "n = 200\n",
    "x_d5 = 3 * (np.random.rand(n, 4) - 0.5)\n",
    "W = np.array([[ 2,  -1, 0.5,],\n",
    "              [-3,   2,   1,],\n",
    "              [ 1,   2,   3]])\n",
    "y_d5 = np.argmax(np.dot(np.hstack([x_d5[:,:2], np.ones((n, 1))]), W.T)\n",
    "                        + 0.5 * np.random.randn(n, 3), axis=1)"
   ]
  },
  {
   "cell_type": "code",
   "execution_count": 8,
   "id": "9fc6615e",
   "metadata": {},
   "outputs": [],
   "source": [
    "p = 5\n",
    "c = 3\n",
    "ones_n = np.ones(n)\n",
    "x_d5_ = np.c_[x_d5, ones_n]\n",
    "w0=np.random.rand(c,p)"
   ]
  },
  {
   "cell_type": "markdown",
   "id": "c500f09e",
   "metadata": {},
   "source": [
    "### Simple Steepest Gradient Method"
   ]
  },
  {
   "cell_type": "code",
   "execution_count": 9,
   "id": "193f47e6",
   "metadata": {},
   "outputs": [
    {
     "name": "stdout",
     "output_type": "stream",
     "text": [
      "accuracy : 0.91\n",
      "Js_grad  : 72.06652656644293\n",
      "CPU times: user 19.1 ms, sys: 1.31 ms, total: 20.5 ms\n",
      "Wall time: 20.1 ms\n"
     ]
    }
   ],
   "source": [
    "%%time\n",
    "alpha = 0.001\n",
    "lamb = 0.01\n",
    "w = w0.copy()\n",
    "accuracies=[]\n",
    "\n",
    "Js_grad=[]\n",
    "\n",
    "wc=w[y_d5]\n",
    "maxwx = (w @ x_d5_.T).max(axis=0)\n",
    "probs = (np.exp((wc * x_d5_).sum(axis=1) - maxwx)/np.exp(w @ x_d5_.T - maxwx).sum(axis=0))\n",
    "J = -np.log(probs).sum()\n",
    "Js_grad.append(J)\n",
    "# counts = np.unique(y_d5, return_counts=True)[1]\n",
    "\n",
    "for _ in range(100):\n",
    "    wc=w[y_d5]\n",
    "    maxwx = (w @ x_d5_.T).max(axis=0)\n",
    "    probs = (np.exp((wc * x_d5_).sum(axis=1) - maxwx)/np.exp(w @ x_d5_.T - maxwx).sum(axis=0))\n",
    "    dJ = (((probs-1) * x_d5_.T).T + (2 * lamb * wc))\n",
    "    dj = np.zeros_like(w)\n",
    "    for c, j in zip(y_d5, dJ):\n",
    "        dj[c] += j\n",
    "    w -= alpha*dj\n",
    "    \n",
    "    J = -np.log(probs).sum()\n",
    "    Js_grad.append(J)\n",
    "    y_pred = np.argmax(w @ x_d5_.T, axis=0)\n",
    "    accuracy = np.mean(y_pred==y_d5)\n",
    "    accuracies.append(accuracy)\n",
    "print(f'accuracy : {max(accuracies)}')\n",
    "print(f'Js_grad  : {min(Js_grad)}')"
   ]
  },
  {
   "cell_type": "markdown",
   "id": "fc1cadd3-04bc-4f3d-8722-fb2b330eaefe",
   "metadata": {},
   "source": [
    "### Newton based method"
   ]
  },
  {
   "cell_type": "code",
   "execution_count": 10,
   "id": "711f4d9b-67d7-4a86-bdd8-c99266a12fe5",
   "metadata": {},
   "outputs": [
    {
     "name": "stdout",
     "output_type": "stream",
     "text": [
      "accuracy : 0.87\n",
      "Js_newton  : 126.41703739079801\n",
      "CPU times: user 1.09 s, sys: 348 ms, total: 1.44 s\n",
      "Wall time: 338 ms\n"
     ]
    }
   ],
   "source": [
    "%%time\n",
    "alpha = 0.01\n",
    "lamb = 0.01\n",
    "w = w0.copy()\n",
    "accuracies=[]\n",
    "Js_newton=[]\n",
    "\n",
    "wc=w[y_d5]\n",
    "maxwx = (w @ x_d5_.T).max(axis=0)\n",
    "probs = (np.exp((wc * x_d5_).sum(axis=1) - maxwx)/np.exp(w @ x_d5_.T - maxwx).sum(axis=0))\n",
    "J = -np.log(probs).sum()\n",
    "Js_newton.append(J)\n",
    "\n",
    "for _ in range(100):\n",
    "    wc=w[y_d5]\n",
    "    maxwx = (w @ x_d5_.T).max(axis=0)\n",
    "    probs = (np.exp((wc * x_d5_).sum(axis=1) - maxwx)/np.exp(w @ x_d5_.T - maxwx).sum(axis=0))\n",
    "    dJ = (((probs-1) * x_d5_.T).T + (2 * lamb * wc))\n",
    "    H = np.array([np.outer(x_d5_[i], x_d5_[i]) * probs[i] * (1-probs[i]) for i in range(n)]) + 2*lamb * np.eye(p)\n",
    "    dj = np.zeros_like(w)\n",
    "    for c, j, h in zip(y_d5, dJ, H):\n",
    "        dj[c] += np.linalg.inv(h) @ j\n",
    "    w -= alpha*dj\n",
    "    \n",
    "    wc=w[y_d5]\n",
    "    maxwx = (w @ x_d5_.T).max(axis=0)\n",
    "    probs = (np.exp((wc * x_d5_).sum(axis=1) - maxwx)/np.exp(w @ x_d5_.T - maxwx).sum(axis=0))\n",
    "    J = -np.log(probs).sum()\n",
    "    Js_newton.append(J)\n",
    "    \n",
    "    y_pred = np.argmax(w @ x_d5_.T, axis=0)\n",
    "    accuracy = np.mean(y_pred==y_d5)\n",
    "    accuracies.append(accuracy)\n",
    "print(f'accuracy : {max(accuracies)}')\n",
    "print(f'Js_newton  : {min(Js_newton)}')"
   ]
  },
  {
   "cell_type": "code",
   "execution_count": 11,
   "id": "f9d9bc83-9e15-4cfb-ad19-ceddd7192925",
   "metadata": {},
   "outputs": [
    {
     "data": {
      "image/png": "[encoded data removed]",
      "text/plain": [
       "<Figure size 432x288 with 1 Axes>"
      ]
     },
     "metadata": {
      "needs_background": "light"
     },
     "output_type": "display_data"
    }
   ],
   "source": [
    "J_hat = min(*Js_grad, *Js_newton)\n",
    "plt.plot(range(101), abs(Js_grad-J_hat), label='grad')\n",
    "plt.plot(range(101), abs(Js_newton-J_hat), label='newton')\n",
    "plt.legend()\n",
    "# plt.xscale('log')\n",
    "plt.xlabel('iteration')\n",
    "plt.yscale('log')\n",
    "plt.ylabel('J(w_t)-J(w_hat)')\n",
    "plt.show()"
   ]
  }
 ],
 "metadata": {
  "kernelspec": {
   "display_name": "tensor38",
   "language": "python",
   "name": "tensor38"
  },
  "language_info": {
   "codemirror_mode": {
    "name": "ipython",
    "version": 3
   },
   "file_extension": ".py",
   "mimetype": "text/x-python",
   "name": "python",
   "nbconvert_exporter": "python",
   "pygments_lexer": "ipython3",
   "version": "3.8.10"
  }
 },
 "nbformat": 4,
 "nbformat_minor": 5
}
